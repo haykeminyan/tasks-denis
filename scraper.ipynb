{
  "cells": [
    {
      "cell_type": "markdown",
      "metadata": {
        "id": "view-in-github",
        "colab_type": "text"
      },
      "source": [
        "<a href=\"https://colab.research.google.com/github/haykeminyan/tasks-denis/blob/main/scraper.ipynb\" target=\"_parent\"><img src=\"https://colab.research.google.com/assets/colab-badge.svg\" alt=\"Open In Colab\"/></a>"
      ]
    },
    {
      "cell_type": "code",
      "execution_count": null,
      "id": "initial_id",
      "metadata": {
        "collapsed": true,
        "id": "initial_id",
        "outputId": "903edf4e-3d11-4edd-9cd1-94566ae768aa",
        "colab": {
          "base_uri": "https://localhost:8080/"
        }
      },
      "outputs": [
        {
          "output_type": "stream",
          "name": "stdout",
          "text": [
            "Requirement already satisfied: pdfplumber in /usr/local/lib/python3.11/dist-packages (0.11.7)\n",
            "Requirement already satisfied: openpyxl in /usr/local/lib/python3.11/dist-packages (3.1.5)\n",
            "Requirement already satisfied: pdfminer.six==20250506 in /usr/local/lib/python3.11/dist-packages (from pdfplumber) (20250506)\n",
            "Requirement already satisfied: Pillow>=9.1 in /usr/local/lib/python3.11/dist-packages (from pdfplumber) (11.2.1)\n",
            "Requirement already satisfied: pypdfium2>=4.18.0 in /usr/local/lib/python3.11/dist-packages (from pdfplumber) (4.30.1)\n",
            "Requirement already satisfied: charset-normalizer>=2.0.0 in /usr/local/lib/python3.11/dist-packages (from pdfminer.six==20250506->pdfplumber) (3.4.2)\n",
            "Requirement already satisfied: cryptography>=36.0.0 in /usr/local/lib/python3.11/dist-packages (from pdfminer.six==20250506->pdfplumber) (43.0.3)\n",
            "Requirement already satisfied: et-xmlfile in /usr/local/lib/python3.11/dist-packages (from openpyxl) (2.0.0)\n",
            "Requirement already satisfied: cffi>=1.12 in /usr/local/lib/python3.11/dist-packages (from cryptography>=36.0.0->pdfminer.six==20250506->pdfplumber) (1.17.1)\n",
            "Requirement already satisfied: pycparser in /usr/local/lib/python3.11/dist-packages (from cffi>=1.12->cryptography>=36.0.0->pdfminer.six==20250506->pdfplumber) (2.22)\n",
            "Несовпадения найдены: 208.PDF → pdfs/results/diff_208.csv\n"
          ]
        }
      ],
      "source": [
        "!pip install pdfplumber openpyxl\n",
        "\n",
        "import pdfplumber\n",
        "import re, os\n",
        "import pandas as pd\n",
        "\n",
        "folder = 'pdfs'\n",
        "\n",
        "# let's define regex\n",
        "number_regex_pdf = r'Riferimenti:\\s*([\\d,]+)'\n",
        "total_regex_pdf = r'TOTALE:EUR\\s+(\\d+,\\d+|\\d+)'\n",
        "\n",
        "number_regex_xlsx = r'Заявка:(\\d+)'\n",
        "total_regex_xlsx = r'Выручка:\\s*(-?\\d+[.,]?\\d*)'\n",
        "\n",
        "pdf_data_per_file = {}\n",
        "\n",
        "for filename in os.listdir(folder):\n",
        "    if filename.lower().endswith('.pdf'):\n",
        "        path = os.path.join(folder, filename)\n",
        "        pdf_res = []\n",
        "        with open(path, 'rb') as f:\n",
        "            with pdfplumber.open(f) as pdf:\n",
        "                for page in pdf.pages:\n",
        "                    text = page.extract_text()\n",
        "                    if not text:\n",
        "                        continue\n",
        "                    number_match = re.findall(number_regex_pdf, text)\n",
        "                    total_match = re.findall(total_regex_pdf, text)\n",
        "                    total_match = [float(i.replace(',', '.')) for i in total_match]\n",
        "                    if number_match and total_match and len(number_match) == len(total_match):\n",
        "                        pairs = list(zip(number_match, total_match))\n",
        "                        pdf_res.extend(pairs)\n",
        "        pdf_data_per_file[filename] = pdf_res\n",
        "\n",
        "excel_data_per_file = {}\n",
        "\n",
        "for filename in os.listdir(folder):\n",
        "    if filename.lower().endswith('.xlsx'):\n",
        "        path = os.path.join(folder, filename)\n",
        "        excel_res = []\n",
        "        try:\n",
        "            dfs = pd.read_excel(path, sheet_name=None, engine='openpyxl')\n",
        "        except Exception as e:\n",
        "            print(f\"Ошибка чтения {filename}: {e}\")\n",
        "            continue\n",
        "\n",
        "        for sheet_name, df in dfs.items():\n",
        "            for row in df.itertuples(index=False):\n",
        "                for cell in row:\n",
        "                    if isinstance(cell, str):\n",
        "                        number_match = re.search(number_regex_xlsx, cell)\n",
        "                        total_match = re.search(total_regex_xlsx, cell)\n",
        "                        if number_match and total_match:\n",
        "                            excel_res.append([\n",
        "                                number_match.group(1),\n",
        "                                float(total_match.group(1).replace(',', '.'))\n",
        "                            ])\n",
        "        excel_data_per_file[filename] = excel_res\n",
        "\n",
        "# Сравнение и сохранение результата пофайлово\n",
        "output_folder = os.path.join(folder, 'results')\n",
        "os.makedirs(output_folder, exist_ok=True)\n",
        "\n",
        "for pdf_file, pdf_values in pdf_data_per_file.items():\n",
        "    mismatches = []\n",
        "\n",
        "    for excel_file, excel_values in excel_data_per_file.items():\n",
        "        for pdf_entry in pdf_values:\n",
        "            for excel_entry in excel_values:\n",
        "                if pdf_entry[0] == excel_entry[0] and abs(float(pdf_entry[1])) != abs(float(excel_entry[1])):\n",
        "                    mismatches.append({\n",
        "                        'Заявка': pdf_entry[0],\n",
        "                        'PDF выручка': pdf_entry[1],\n",
        "                        'Excel выручка': excel_entry[1],\n",
        "                        'Excel файл': excel_file\n",
        "                    })\n",
        "\n",
        "    if mismatches:\n",
        "        df = pd.DataFrame(mismatches)\n",
        "        res_path = os.path.join(output_folder, f\"diff_{os.path.splitext(pdf_file)[0]}.csv\")\n",
        "        df.to_csv(res_path, index=False)\n",
        "        print(f\"Несовпадения найдены: {pdf_file} → {res_path}\")\n",
        "    else:\n",
        "        print(f\"OK: {pdf_file} — нет несовпадений\")\n"
      ]
    }
  ],
  "metadata": {
    "kernelspec": {
      "display_name": "Python 3",
      "language": "python",
      "name": "python3"
    },
    "language_info": {
      "codemirror_mode": {
        "name": "ipython",
        "version": 2
      },
      "file_extension": ".py",
      "mimetype": "text/x-python",
      "name": "python",
      "nbconvert_exporter": "python",
      "pygments_lexer": "ipython2",
      "version": "2.7.6"
    },
    "colab": {
      "provenance": [],
      "include_colab_link": true
    }
  },
  "nbformat": 4,
  "nbformat_minor": 5
}